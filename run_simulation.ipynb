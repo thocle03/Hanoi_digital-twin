{
 "cells": [
  {
   "cell_type": "code",
   "execution_count": 1,
   "id": "ebd5581f",
   "metadata": {},
   "outputs": [
    {
     "name": "stdout",
     "output_type": "stream",
     "text": [
      "Requirement already satisfied: traci in c:\\users\\thoma\\anaconda3\\lib\\site-packages (1.24.0)\n",
      "Requirement already satisfied: sumolib>=1.24.0 in c:\\users\\thoma\\anaconda3\\lib\\site-packages (from traci) (1.24.0)\n",
      "Note: you may need to restart the kernel to use updated packages.\n"
     ]
    }
   ],
   "source": [
    "%pip install traci"
   ]
  },
  {
   "cell_type": "code",
   "execution_count": 3,
   "id": "9c4ba5cc",
   "metadata": {},
   "outputs": [
    {
     "name": "stdout",
     "output_type": "stream",
     "text": [
      "Starting SUMO: sumo -c c:/Users/thoma/OneDrive/Bureau/Hanoi_digital-twin/hanoi.sumocfg\n",
      "Step 0: vehicles=0 avg_speed=0.00 m/s\n",
      "Step 60: vehicles=0 avg_speed=0.00 m/s\n",
      "Step 120: vehicles=0 avg_speed=0.00 m/s\n",
      "Step 180: vehicles=1 avg_speed=3.85 m/s\n",
      "Step 240: vehicles=0 avg_speed=0.00 m/s\n",
      "Step 300: vehicles=0 avg_speed=0.00 m/s\n",
      "Step 360: vehicles=0 avg_speed=0.00 m/s\n",
      "Step 420: vehicles=0 avg_speed=0.00 m/s\n",
      "Step 480: vehicles=0 avg_speed=0.00 m/s\n",
      "Step 540: vehicles=0 avg_speed=0.00 m/s\n",
      "Step 600: vehicles=2 avg_speed=11.80 m/s\n",
      "Step 660: vehicles=1 avg_speed=12.35 m/s\n",
      "Step 720: vehicles=0 avg_speed=0.00 m/s\n",
      "Step 780: vehicles=1 avg_speed=2.22 m/s\n",
      "Step 840: vehicles=0 avg_speed=0.00 m/s\n",
      "Step 900: vehicles=1 avg_speed=13.67 m/s\n",
      "Step 960: vehicles=0 avg_speed=0.00 m/s\n",
      "Step 1020: vehicles=0 avg_speed=0.00 m/s\n",
      "Step 1080: vehicles=1 avg_speed=10.24 m/s\n",
      "Step 1140: vehicles=1 avg_speed=11.19 m/s\n",
      "Step 1200: vehicles=0 avg_speed=0.00 m/s\n",
      "Step 1260: vehicles=1 avg_speed=1.96 m/s\n",
      "Step 1320: vehicles=0 avg_speed=0.00 m/s\n",
      "Step 1380: vehicles=0 avg_speed=0.00 m/s\n",
      "Step 1440: vehicles=0 avg_speed=0.00 m/s\n",
      "Step 1500: vehicles=0 avg_speed=0.00 m/s\n",
      "Step 1560: vehicles=0 avg_speed=0.00 m/s\n",
      "Step 1620: vehicles=0 avg_speed=0.00 m/s\n",
      "Step 1680: vehicles=0 avg_speed=0.00 m/s\n",
      "Step 1740: vehicles=0 avg_speed=0.00 m/s\n",
      "Step 1800: vehicles=0 avg_speed=0.00 m/s\n",
      "Step 1860: vehicles=0 avg_speed=0.00 m/s\n",
      "Step 1920: vehicles=0 avg_speed=0.00 m/s\n",
      "Step 1980: vehicles=0 avg_speed=0.00 m/s\n",
      "Step 2040: vehicles=0 avg_speed=0.00 m/s\n",
      "Step 2100: vehicles=1 avg_speed=9.53 m/s\n",
      "Step 2160: vehicles=0 avg_speed=0.00 m/s\n",
      "Step 2220: vehicles=1 avg_speed=14.59 m/s\n",
      "Step 2280: vehicles=2 avg_speed=18.23 m/s\n",
      "Step 2340: vehicles=2 avg_speed=18.24 m/s\n",
      "Step 2400: vehicles=1 avg_speed=22.03 m/s\n",
      "Step 2460: vehicles=1 avg_speed=22.06 m/s\n",
      "Step 2520: vehicles=0 avg_speed=0.00 m/s\n",
      "Step 2580: vehicles=1 avg_speed=15.21 m/s\n",
      "Step 2640: vehicles=0 avg_speed=0.00 m/s\n",
      "Step 2700: vehicles=0 avg_speed=0.00 m/s\n",
      "Step 2760: vehicles=0 avg_speed=0.00 m/s\n",
      "Step 2820: vehicles=0 avg_speed=0.00 m/s\n",
      "Step 2880: vehicles=0 avg_speed=0.00 m/s\n",
      "Step 2940: vehicles=0 avg_speed=0.00 m/s\n",
      "Step 3000: vehicles=0 avg_speed=0.00 m/s\n",
      "Step 3060: vehicles=0 avg_speed=0.00 m/s\n",
      "Step 3120: vehicles=0 avg_speed=0.00 m/s\n",
      "Step 3180: vehicles=0 avg_speed=0.00 m/s\n",
      "Step 3240: vehicles=1 avg_speed=8.49 m/s\n",
      "Step 3300: vehicles=0 avg_speed=0.00 m/s\n",
      "Step 3360: vehicles=0 avg_speed=0.00 m/s\n",
      "Step 3420: vehicles=0 avg_speed=0.00 m/s\n",
      "Step 3480: vehicles=0 avg_speed=0.00 m/s\n",
      "Step 3540: vehicles=0 avg_speed=0.00 m/s\n",
      "Résultats dans simulation2_output.csv\n"
     ]
    }
   ],
   "source": [
    "#!/usr/bin/env python3\n",
    "\"\"\"Lance SUMO via TraCI et affiche les statistiques simples.\"\"\"\n",
    "import os, csv\n",
    "import traci\n",
    "\n",
    "USE_GUI = os.environ.get('SUMO_GUI','0') not in ('0', '', None)\n",
    "sumo_binary = \"sumo-gui\" if USE_GUI else \"sumo\"\n",
    "# ...existing code...\n",
    "config = \"c:/Users/thoma/OneDrive/Bureau/Hanoi_digital-twin/hanoi.sumocfg\"\n",
    "# ...existing code...\n",
    "\n",
    "sumo_cmd = [sumo_binary, \"-c\", config]\n",
    "print(\"Starting SUMO:\", ' '.join(sumo_cmd))\n",
    "traci.start(sumo_cmd)\n",
    "step = 0\n",
    "out_csv = \"simulation2_output.csv\"\n",
    "\n",
    "with open(out_csv, 'w', newline='') as csvfile:\n",
    "    writer = csv.writer(csvfile)\n",
    "    writer.writerow(['step','n_vehicles','avg_speed_m_s'])\n",
    "    try:\n",
    "        while step < 3600:\n",
    "            traci.simulationStep()\n",
    "            if step % 60 == 0:\n",
    "                veh_ids = traci.vehicle.getIDList()\n",
    "                n = len(veh_ids)\n",
    "                avg_speed = 0.0\n",
    "                if n>0:\n",
    "                    avg_speed = sum(traci.vehicle.getSpeed(v) for v in veh_ids)/n\n",
    "                print(f\"Step {step}: vehicles={n} avg_speed={avg_speed:.2f} m/s\")\n",
    "                writer.writerow([step, n, round(avg_speed,3)])\n",
    "            step += 1\n",
    "    except KeyboardInterrupt:\n",
    "        print(\"Simulation interrompue.\")\n",
    "    finally:\n",
    "        traci.close()\n",
    "        print(f\"Résultats dans {out_csv}\")\n"
   ]
  }
 ],
 "metadata": {
  "kernelspec": {
   "display_name": "base",
   "language": "python",
   "name": "python3"
  },
  "language_info": {
   "codemirror_mode": {
    "name": "ipython",
    "version": 3
   },
   "file_extension": ".py",
   "mimetype": "text/x-python",
   "name": "python",
   "nbconvert_exporter": "python",
   "pygments_lexer": "ipython3",
   "version": "3.12.7"
  }
 },
 "nbformat": 4,
 "nbformat_minor": 5
}
